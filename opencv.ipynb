{
 "cells": [
  {
   "cell_type": "code",
   "execution_count": 3,
   "metadata": {},
   "outputs": [
    {
     "ename": "error",
     "evalue": "OpenCV(4.0.1) C:\\ci\\opencv-suite_1573470242804\\work\\modules\\imgproc\\src\\color.cpp:181: error: (-215:Assertion failed) !_src.empty() in function 'cv::cvtColor'\n",
     "output_type": "error",
     "traceback": [
      "\u001b[1;31m---------------------------------------------------------------------------\u001b[0m",
      "\u001b[1;31merror\u001b[0m                                     Traceback (most recent call last)",
      "\u001b[1;32m<ipython-input-3-4aae16586dae>\u001b[0m in \u001b[0;36m<module>\u001b[1;34m\u001b[0m\n\u001b[0;32m     32\u001b[0m \u001b[1;32mwhile\u001b[0m \u001b[1;32mTrue\u001b[0m\u001b[1;33m:\u001b[0m\u001b[1;33m\u001b[0m\u001b[1;33m\u001b[0m\u001b[0m\n\u001b[0;32m     33\u001b[0m         \u001b[0m_\u001b[0m\u001b[1;33m,\u001b[0m \u001b[0mframe2\u001b[0m \u001b[1;33m=\u001b[0m \u001b[0mcap\u001b[0m\u001b[1;33m.\u001b[0m\u001b[0mread\u001b[0m\u001b[1;33m(\u001b[0m\u001b[1;33m)\u001b[0m\u001b[1;33m\u001b[0m\u001b[1;33m\u001b[0m\u001b[0m\n\u001b[1;32m---> 34\u001b[1;33m         \u001b[0mnew_gray\u001b[0m \u001b[1;33m=\u001b[0m \u001b[0mcv2\u001b[0m\u001b[1;33m.\u001b[0m\u001b[0mcvtColor\u001b[0m\u001b[1;33m(\u001b[0m\u001b[0mframe2\u001b[0m\u001b[1;33m,\u001b[0m \u001b[0mcv2\u001b[0m\u001b[1;33m.\u001b[0m\u001b[0mCOLOR_BGR2GRAY\u001b[0m\u001b[1;33m)\u001b[0m\u001b[1;33m\u001b[0m\u001b[1;33m\u001b[0m\u001b[0m\n\u001b[0m\u001b[0;32m     35\u001b[0m \u001b[1;33m\u001b[0m\u001b[0m\n\u001b[0;32m     36\u001b[0m \tnew_pts,status,err = cv2.calcOpticalFlowPyrLK(old_gray,new_gay,old_pts,\n",
      "\u001b[1;31merror\u001b[0m: OpenCV(4.0.1) C:\\ci\\opencv-suite_1573470242804\\work\\modules\\imgproc\\src\\color.cpp:181: error: (-215:Assertion failed) !_src.empty() in function 'cv::cvtColor'\n"
     ]
    }
   ],
   "source": [
    "import cv2\n",
    "import numpy as np\n",
    "# Object Tracking - Optical Flow - Lucas Kanade\n",
    "\n",
    "ix, iy, k = 200,200,1\n",
    "def onMouse(event, x, y, flag, param):\n",
    "\tglobal ix,iy,k\n",
    "\tif event == cv2.EVENT_LBUTTONDOWN:\n",
    "\t\tix,iy = x,y\n",
    "\t\tk= -1\n",
    "\n",
    "cv2.namedWindow(\"window\")\n",
    "cv2.setMouseCallback(\"window\", onMouse)\n",
    "\n",
    "cap = cv2.VideoCapture(0)\n",
    "\n",
    "# code for getting input directly from video\n",
    "while True:\n",
    "\t_, frm = cap.read()       #frm = frame\n",
    "\tcv2.imshow(\"window\", frm)\n",
    "\t#27= escape key\n",
    "\tif cv2.waitKey(1) ==27 or k == -1:\n",
    "\t\told_gray = cv2.cvtColor(frm, cv2.COLOR_BGR2GRAY)   \n",
    "\t\tcap.release()\n",
    "\t\tcv2.destroyAllWindows()\n",
    "\t\tbreak                 # ctrl B to run\n",
    "\n",
    "old_pts = np.array([[ix,iy]], dtype=\"float32\").reshape(-1,1,2)\n",
    "\n",
    "mask = np.zeros_like(frm)\n",
    "\n",
    "while True:\n",
    "\t_, frame2 = cap.read()\n",
    "\tnew_gray = cv2.cvtColor(frame2, cv2.COLOR_BGR2GRAY) \n",
    "\n",
    "\tnew_pts,status,err = cv2.calcOpticalFlowPyrLK(old_gray,new_gay,old_pts,\n",
    "\t\tNone, maxLevel=1, criteria=(cv2.TERM_CRITERIA_EPS | cv2.TERM_CRITERIA_COUNT, 15, 0.08)) \n",
    "\tprint(new_pts)\n",
    "\t\n",
    "\tcv2.circle(mask, (new_pts.ravel()[0], new_pts.ravel()[1]), 2, (0,255,0), 2) #radius, color, thickness\n",
    "\tcombined = cv2.addWeighted(frame2, 0.7, mask, 0.3, 0.1)\n",
    "\n",
    "\tcv2.imshow(\"new win\", mask)\n",
    "\tcv2.imshow(\"wind\", combined)\n",
    "\n",
    "\told_gray= new_gray.copy()\n",
    "\told_pts = new_pts.copy()\n",
    "\n",
    "\tif cv2.waitKey(1) ==27 :  \n",
    "\t\tcap.release()\n",
    "\t\tcv2.destroyAllWindows()\n",
    "\t\tbreak    \n"
   ]
  },
  {
   "cell_type": "code",
   "execution_count": null,
   "metadata": {},
   "outputs": [],
   "source": []
  },
  {
   "cell_type": "code",
   "execution_count": null,
   "metadata": {},
   "outputs": [],
   "source": []
  }
 ],
 "metadata": {
  "kernelspec": {
   "display_name": "Python 3",
   "language": "python",
   "name": "python3"
  },
  "language_info": {
   "codemirror_mode": {
    "name": "ipython",
    "version": 3
   },
   "file_extension": ".py",
   "mimetype": "text/x-python",
   "name": "python",
   "nbconvert_exporter": "python",
   "pygments_lexer": "ipython3",
   "version": "3.8.5"
  }
 },
 "nbformat": 4,
 "nbformat_minor": 4
}
